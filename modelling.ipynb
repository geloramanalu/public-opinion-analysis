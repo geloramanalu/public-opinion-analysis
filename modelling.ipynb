{
 "cells": [
  {
   "cell_type": "code",
   "execution_count": 2,
   "metadata": {},
   "outputs": [],
   "source": [
    "import pandas as pd\n",
    "import numpy as np\n",
    "from sklearn.metrics import classification_report\n",
    "from sklearn.model_selection import GridSearchCV"
   ]
  },
  {
   "attachments": {},
   "cell_type": "markdown",
   "metadata": {},
   "source": [
    "# Import Training Data"
   ]
  },
  {
   "cell_type": "code",
   "execution_count": 3,
   "metadata": {},
   "outputs": [
    {
     "data": {
      "text/html": [
       "<div>\n",
       "<style scoped>\n",
       "    .dataframe tbody tr th:only-of-type {\n",
       "        vertical-align: middle;\n",
       "    }\n",
       "\n",
       "    .dataframe tbody tr th {\n",
       "        vertical-align: top;\n",
       "    }\n",
       "\n",
       "    .dataframe thead th {\n",
       "        text-align: right;\n",
       "    }\n",
       "</style>\n",
       "<table border=\"1\" class=\"dataframe\">\n",
       "  <thead>\n",
       "    <tr style=\"text-align: right;\">\n",
       "      <th></th>\n",
       "      <th>sentiment</th>\n",
       "      <th>tweet</th>\n",
       "      <th>Processed Text</th>\n",
       "    </tr>\n",
       "  </thead>\n",
       "  <tbody>\n",
       "    <tr>\n",
       "      <th>0</th>\n",
       "      <td>-1</td>\n",
       "      <td>kita lanjutkan saja diam ini hingga kau dan ak...</td>\n",
       "      <td>lanjut diam hingga erti semua sama libat hati</td>\n",
       "    </tr>\n",
       "    <tr>\n",
       "      <th>1</th>\n",
       "      <td>1</td>\n",
       "      <td>doa rezeki tak putus inna haa zaa larizquna ma...</td>\n",
       "      <td>doa rezeki putus inna haa zaa larizquna maa la...</td>\n",
       "    </tr>\n",
       "    <tr>\n",
       "      <th>2</th>\n",
       "      <td>1</td>\n",
       "      <td>makasih loh ntar kita bagi hasil aku 99 9 sisa...</td>\n",
       "      <td>terima kasih loh hasil sisa buat</td>\n",
       "    </tr>\n",
       "    <tr>\n",
       "      <th>3</th>\n",
       "      <td>-1</td>\n",
       "      <td>aku tak faham betul jenis orang malaysia yang ...</td>\n",
       "      <td>faham betul jenis malaysia tidak ret nak sangk...</td>\n",
       "    </tr>\n",
       "    <tr>\n",
       "      <th>4</th>\n",
       "      <td>-1</td>\n",
       "      <td>cerita dia macam ni mamat ni hari2 aku nampak ...</td>\n",
       "      <td>cerita macam mamat harihari tampak keluar masu...</td>\n",
       "    </tr>\n",
       "    <tr>\n",
       "      <th>...</th>\n",
       "      <td>...</td>\n",
       "      <td>...</td>\n",
       "      <td>...</td>\n",
       "    </tr>\n",
       "    <tr>\n",
       "      <th>5473</th>\n",
       "      <td>-1</td>\n",
       "      <td>Pelik tengok orang zaman sekarang ni dulu kema...</td>\n",
       "      <td>pelik jenguk zaman sekarang dulu main ria tunj...</td>\n",
       "    </tr>\n",
       "    <tr>\n",
       "      <th>5474</th>\n",
       "      <td>1</td>\n",
       "      <td>Jangan membandingkan kehidupanmu dengan kehidu...</td>\n",
       "      <td>jangan banding hidup hidup karena dari milik k...</td>\n",
       "    </tr>\n",
       "    <tr>\n",
       "      <th>5475</th>\n",
       "      <td>1</td>\n",
       "      <td>Apapun yg telah kamu lakukan apapun kesalahanm...</td>\n",
       "      <td>apa telah laku apa salah selalu temu kata maaf...</td>\n",
       "    </tr>\n",
       "    <tr>\n",
       "      <th>5476</th>\n",
       "      <td>1</td>\n",
       "      <td>3 cara untuk ingat semula apa yang kita dah ha...</td>\n",
       "      <td>cara ingat mula apa deh hafal</td>\n",
       "    </tr>\n",
       "    <tr>\n",
       "      <th>5477</th>\n",
       "      <td>1</td>\n",
       "      <td>Semoga Allah permudahkan urusan aku amp orang ...</td>\n",
       "      <td>moga allah mudah urus amp keliling tengah stre...</td>\n",
       "    </tr>\n",
       "  </tbody>\n",
       "</table>\n",
       "<p>5478 rows × 3 columns</p>\n",
       "</div>"
      ],
      "text/plain": [
       "      sentiment                                              tweet  \\\n",
       "0            -1  kita lanjutkan saja diam ini hingga kau dan ak...   \n",
       "1             1  doa rezeki tak putus inna haa zaa larizquna ma...   \n",
       "2             1  makasih loh ntar kita bagi hasil aku 99 9 sisa...   \n",
       "3            -1  aku tak faham betul jenis orang malaysia yang ...   \n",
       "4            -1  cerita dia macam ni mamat ni hari2 aku nampak ...   \n",
       "...         ...                                                ...   \n",
       "5473         -1  Pelik tengok orang zaman sekarang ni dulu kema...   \n",
       "5474          1  Jangan membandingkan kehidupanmu dengan kehidu...   \n",
       "5475          1  Apapun yg telah kamu lakukan apapun kesalahanm...   \n",
       "5476          1  3 cara untuk ingat semula apa yang kita dah ha...   \n",
       "5477          1  Semoga Allah permudahkan urusan aku amp orang ...   \n",
       "\n",
       "                                         Processed Text  \n",
       "0         lanjut diam hingga erti semua sama libat hati  \n",
       "1     doa rezeki putus inna haa zaa larizquna maa la...  \n",
       "2                      terima kasih loh hasil sisa buat  \n",
       "3     faham betul jenis malaysia tidak ret nak sangk...  \n",
       "4     cerita macam mamat harihari tampak keluar masu...  \n",
       "...                                                 ...  \n",
       "5473  pelik jenguk zaman sekarang dulu main ria tunj...  \n",
       "5474  jangan banding hidup hidup karena dari milik k...  \n",
       "5475  apa telah laku apa salah selalu temu kata maaf...  \n",
       "5476                      cara ingat mula apa deh hafal  \n",
       "5477  moga allah mudah urus amp keliling tengah stre...  \n",
       "\n",
       "[5478 rows x 3 columns]"
      ]
     },
     "execution_count": 3,
     "metadata": {},
     "output_type": "execute_result"
    }
   ],
   "source": [
    "df = pd.read_csv('preprocessed-data/2-label-training-data-preprocessed.csv')\n",
    "df"
   ]
  },
  {
   "cell_type": "code",
   "execution_count": 4,
   "metadata": {},
   "outputs": [
    {
     "name": "stdout",
     "output_type": "stream",
     "text": [
      "Rows with Missing Values:\n",
      "      sentiment         tweet Processed Text\n",
      "487           1      ada aku             NaN\n",
      "1035          1   aku aja aku            NaN\n",
      "2126          1     dapet aku            NaN\n",
      "2493          1      ada kamu            NaN\n",
      "2527         -1    aku belum             NaN\n",
      "2977          1  kamu jugaaa             NaN\n"
     ]
    }
   ],
   "source": [
    "missing_data = df.isnull()\n",
    "rows_with_missing = missing_data.any(axis=1)\n",
    "\n",
    "# Filter the DataFrame to show only the rows with missing values\n",
    "missing_rows = df[rows_with_missing]\n",
    "\n",
    "# Display the rows with missing values\n",
    "print(\"Rows with Missing Values:\")\n",
    "print(missing_rows)"
   ]
  },
  {
   "cell_type": "code",
   "execution_count": 5,
   "metadata": {},
   "outputs": [
    {
     "data": {
      "text/plain": [
       "sentiment         0\n",
       "tweet             0\n",
       "Processed Text    0\n",
       "dtype: int64"
      ]
     },
     "execution_count": 5,
     "metadata": {},
     "output_type": "execute_result"
    }
   ],
   "source": [
    "# delete rows with missing values\n",
    "df = df.dropna(subset=['Processed Text'])\n",
    "df.isnull().sum()"
   ]
  },
  {
   "attachments": {},
   "cell_type": "markdown",
   "metadata": {},
   "source": [
    "# Splitting Data"
   ]
  },
  {
   "cell_type": "code",
   "execution_count": 6,
   "metadata": {},
   "outputs": [
    {
     "name": "stdout",
     "output_type": "stream",
     "text": [
      "Train :  (4377,) (4377,) \n",
      "Test :  (1095,) (1095,)\n"
     ]
    }
   ],
   "source": [
    "from sklearn.model_selection import train_test_split\n",
    "\n",
    "X_train, X_test, y_train, y_test = train_test_split(df['Processed Text'], df['sentiment'], test_size=0.2, random_state=42)\n",
    "\n",
    "print(\"Train : \", X_train.shape, y_train.shape, \"\\nTest : \", X_test.shape, y_test.shape)"
   ]
  },
  {
   "cell_type": "code",
   "execution_count": 7,
   "metadata": {},
   "outputs": [],
   "source": [
    "from sklearn.metrics import accuracy_score, precision_score, recall_score, f1_score\n",
    "def eval_classification(model, pred, xtrain, ytrain, xtest, ytest):\n",
    "    print(\"Accuracy (Test Set): %.4f\" % accuracy_score(ytest, pred))\n",
    "    print(\"Precision (Test Set): %.4f\" % precision_score(ytest, pred, average='macro'))\n",
    "    print(\"Recall (Test Set): %.4f\" % recall_score(ytest, pred, average='macro'))\n",
    "    print(\"F1-Score (Test Set): %.4f\" % f1_score(ytest, pred, average='macro'))"
   ]
  },
  {
   "attachments": {},
   "cell_type": "markdown",
   "metadata": {},
   "source": [
    "# TF-IDF"
   ]
  },
  {
   "cell_type": "code",
   "execution_count": 8,
   "metadata": {},
   "outputs": [],
   "source": [
    "from sklearn.feature_extraction.text import TfidfVectorizer\n",
    "\n",
    "vectorizer = TfidfVectorizer()\n",
    "tf_x_train = vectorizer.fit_transform(X_train)\n",
    "tf_x_test = vectorizer.transform(X_test)"
   ]
  },
  {
   "cell_type": "code",
   "execution_count": 9,
   "metadata": {},
   "outputs": [],
   "source": [
    "from sklearn.model_selection import cross_val_score\n",
    "\n",
    "# cross validation\n",
    "def cross_val(model, xtrain, ytrain, cv):\n",
    "    scores = cross_val_score(model, xtrain, ytrain, cv=cv, scoring='accuracy')\n",
    "    print(\"Cross Validation Scores:\", scores)\n",
    "    print(\"Cross Validation Mean Score: %.4f\" % scores.mean())\n",
    "    print(\"Cross Validation Standard Deviation: %.4f\" % scores.std())"
   ]
  },
  {
   "cell_type": "code",
   "execution_count": 59,
   "metadata": {},
   "outputs": [],
   "source": [
    "# Initializing model score dataframe\n",
    "model_score = pd.DataFrame(columns=['model', 'cross validation accuracy', 'standard deviations', 'test accuracy'])"
   ]
  },
  {
   "cell_type": "code",
   "execution_count": 11,
   "metadata": {},
   "outputs": [],
   "source": [
    "# Train and evaluate models using K-fold cross-validation\n",
    "from sklearn.metrics import confusion_matrix, accuracy_score\n",
    "from sklearn.model_selection import cross_val_score, StratifiedKFold\n",
    "\n",
    "def evaluate(classifier, xtrain, ytrain, xtest, cv):\n",
    "    # Compute cross-validated accuracy score\n",
    "    cross_val_scores = cross_val_score(classifier, xtrain, ytrain, cv=cv, scoring='accuracy')\n",
    "\n",
    "    # Print results\n",
    "    print(f'Cross-validated accuracy score: {cross_val_scores.mean()}')\n",
    "\n",
    "    # Print standard deviation\n",
    "    print(f'Standard deviation: {cross_val_scores.std()}')\n",
    "\n",
    "    # Fitting classifier to the Training set\n",
    "    classifier.fit(xtrain, ytrain)\n",
    "\n",
    "    # Predicting the Test set results\n",
    "    y_pred = classifier.predict(xtest)\n",
    "\n",
    "    # Making the Confusion Matrix\n",
    "    cm = confusion_matrix(y_test, y_pred)\n",
    "    print(cm)\n",
    "\n",
    "    # Accuracy score\n",
    "    accuracy = accuracy_score(y_test, y_pred)\n",
    "    print(f'Accuracy: {accuracy}')\n",
    "\n",
    "    # Adding model score to dataframe\n",
    "    model_score.loc[len(model_score)] = [classifier.__class__.__name__, cross_val_scores.mean(), cross_val_scores.std(), accuracy]"
   ]
  },
  {
   "attachments": {},
   "cell_type": "markdown",
   "metadata": {},
   "source": [
    "## Model 1: SVM"
   ]
  },
  {
   "cell_type": "code",
   "execution_count": 60,
   "metadata": {},
   "outputs": [
    {
     "name": "stdout",
     "output_type": "stream",
     "text": [
      "Cross-validated accuracy score: 0.7363509458577953\n",
      "Standard deviation: 0.015643256164820443\n",
      "[[476 113]\n",
      " [181 325]]\n",
      "Accuracy: 0.7315068493150685\n"
     ]
    }
   ],
   "source": [
    "from sklearn.svm import SVC\n",
    "\n",
    "svm = SVC()\n",
    "evaluate(svm, tf_x_train, y_train, tf_x_test, 5)"
   ]
  },
  {
   "cell_type": "code",
   "execution_count": 61,
   "metadata": {},
   "outputs": [
    {
     "name": "stdout",
     "output_type": "stream",
     "text": [
      "              precision    recall  f1-score   support\n",
      "\n",
      "          -1       0.72      0.81      0.76       589\n",
      "           1       0.74      0.64      0.69       506\n",
      "\n",
      "    accuracy                           0.73      1095\n",
      "   macro avg       0.73      0.73      0.73      1095\n",
      "weighted avg       0.73      0.73      0.73      1095\n",
      "\n",
      "Accuracy (Test Set): 0.7315\n",
      "Precision (Test Set): 0.7333\n",
      "Recall (Test Set): 0.7252\n",
      "F1-Score (Test Set): 0.7263\n"
     ]
    }
   ],
   "source": [
    "svm_pred = svm.predict(tf_x_test)\n",
    "print(classification_report(y_test, svm_pred))\n",
    "eval_classification(svm, svm_pred, tf_x_train, y_train, tf_x_test, y_test)"
   ]
  },
  {
   "cell_type": "code",
   "execution_count": 14,
   "metadata": {},
   "outputs": [],
   "source": [
    "svm_param = {\n",
    "    'C': [0.1, 1, 10, 100],\n",
    "    'gamma': [1, 0.1, 0.01, 0.001],\n",
    "    'kernel': ['rbf', 'poly', 'sigmoid'],\n",
    "    'degree': [2, 3, 4, 5]\n",
    "}\n",
    "\n",
    "grid_svm = GridSearchCV(\n",
    "    estimator=svm,\n",
    "    param_grid=svm_param,\n",
    "    cv=5,\n",
    "    verbose=1,\n",
    "    n_jobs=-1\n",
    ")"
   ]
  },
  {
   "cell_type": "code",
   "execution_count": 15,
   "metadata": {},
   "outputs": [
    {
     "name": "stdout",
     "output_type": "stream",
     "text": [
      "Fitting 5 folds for each of 192 candidates, totalling 960 fits\n"
     ]
    },
    {
     "data": {
      "text/html": [
       "<style>#sk-container-id-1 {color: black;background-color: white;}#sk-container-id-1 pre{padding: 0;}#sk-container-id-1 div.sk-toggleable {background-color: white;}#sk-container-id-1 label.sk-toggleable__label {cursor: pointer;display: block;width: 100%;margin-bottom: 0;padding: 0.3em;box-sizing: border-box;text-align: center;}#sk-container-id-1 label.sk-toggleable__label-arrow:before {content: \"▸\";float: left;margin-right: 0.25em;color: #696969;}#sk-container-id-1 label.sk-toggleable__label-arrow:hover:before {color: black;}#sk-container-id-1 div.sk-estimator:hover label.sk-toggleable__label-arrow:before {color: black;}#sk-container-id-1 div.sk-toggleable__content {max-height: 0;max-width: 0;overflow: hidden;text-align: left;background-color: #f0f8ff;}#sk-container-id-1 div.sk-toggleable__content pre {margin: 0.2em;color: black;border-radius: 0.25em;background-color: #f0f8ff;}#sk-container-id-1 input.sk-toggleable__control:checked~div.sk-toggleable__content {max-height: 200px;max-width: 100%;overflow: auto;}#sk-container-id-1 input.sk-toggleable__control:checked~label.sk-toggleable__label-arrow:before {content: \"▾\";}#sk-container-id-1 div.sk-estimator input.sk-toggleable__control:checked~label.sk-toggleable__label {background-color: #d4ebff;}#sk-container-id-1 div.sk-label input.sk-toggleable__control:checked~label.sk-toggleable__label {background-color: #d4ebff;}#sk-container-id-1 input.sk-hidden--visually {border: 0;clip: rect(1px 1px 1px 1px);clip: rect(1px, 1px, 1px, 1px);height: 1px;margin: -1px;overflow: hidden;padding: 0;position: absolute;width: 1px;}#sk-container-id-1 div.sk-estimator {font-family: monospace;background-color: #f0f8ff;border: 1px dotted black;border-radius: 0.25em;box-sizing: border-box;margin-bottom: 0.5em;}#sk-container-id-1 div.sk-estimator:hover {background-color: #d4ebff;}#sk-container-id-1 div.sk-parallel-item::after {content: \"\";width: 100%;border-bottom: 1px solid gray;flex-grow: 1;}#sk-container-id-1 div.sk-label:hover label.sk-toggleable__label {background-color: #d4ebff;}#sk-container-id-1 div.sk-serial::before {content: \"\";position: absolute;border-left: 1px solid gray;box-sizing: border-box;top: 0;bottom: 0;left: 50%;z-index: 0;}#sk-container-id-1 div.sk-serial {display: flex;flex-direction: column;align-items: center;background-color: white;padding-right: 0.2em;padding-left: 0.2em;position: relative;}#sk-container-id-1 div.sk-item {position: relative;z-index: 1;}#sk-container-id-1 div.sk-parallel {display: flex;align-items: stretch;justify-content: center;background-color: white;position: relative;}#sk-container-id-1 div.sk-item::before, #sk-container-id-1 div.sk-parallel-item::before {content: \"\";position: absolute;border-left: 1px solid gray;box-sizing: border-box;top: 0;bottom: 0;left: 50%;z-index: -1;}#sk-container-id-1 div.sk-parallel-item {display: flex;flex-direction: column;z-index: 1;position: relative;background-color: white;}#sk-container-id-1 div.sk-parallel-item:first-child::after {align-self: flex-end;width: 50%;}#sk-container-id-1 div.sk-parallel-item:last-child::after {align-self: flex-start;width: 50%;}#sk-container-id-1 div.sk-parallel-item:only-child::after {width: 0;}#sk-container-id-1 div.sk-dashed-wrapped {border: 1px dashed gray;margin: 0 0.4em 0.5em 0.4em;box-sizing: border-box;padding-bottom: 0.4em;background-color: white;}#sk-container-id-1 div.sk-label label {font-family: monospace;font-weight: bold;display: inline-block;line-height: 1.2em;}#sk-container-id-1 div.sk-label-container {text-align: center;}#sk-container-id-1 div.sk-container {/* jupyter's `normalize.less` sets `[hidden] { display: none; }` but bootstrap.min.css set `[hidden] { display: none !important; }` so we also need the `!important` here to be able to override the default hidden behavior on the sphinx rendered scikit-learn.org. See: https://github.com/scikit-learn/scikit-learn/issues/21755 */display: inline-block !important;position: relative;}#sk-container-id-1 div.sk-text-repr-fallback {display: none;}</style><div id=\"sk-container-id-1\" class=\"sk-top-container\"><div class=\"sk-text-repr-fallback\"><pre>GridSearchCV(cv=5, estimator=SVC(), n_jobs=-1,\n",
       "             param_grid={&#x27;C&#x27;: [0.1, 1, 10, 100], &#x27;degree&#x27;: [2, 3, 4, 5],\n",
       "                         &#x27;gamma&#x27;: [1, 0.1, 0.01, 0.001],\n",
       "                         &#x27;kernel&#x27;: [&#x27;rbf&#x27;, &#x27;poly&#x27;, &#x27;sigmoid&#x27;]},\n",
       "             verbose=1)</pre><b>In a Jupyter environment, please rerun this cell to show the HTML representation or trust the notebook. <br />On GitHub, the HTML representation is unable to render, please try loading this page with nbviewer.org.</b></div><div class=\"sk-container\" hidden><div class=\"sk-item sk-dashed-wrapped\"><div class=\"sk-label-container\"><div class=\"sk-label sk-toggleable\"><input class=\"sk-toggleable__control sk-hidden--visually\" id=\"sk-estimator-id-1\" type=\"checkbox\" ><label for=\"sk-estimator-id-1\" class=\"sk-toggleable__label sk-toggleable__label-arrow\">GridSearchCV</label><div class=\"sk-toggleable__content\"><pre>GridSearchCV(cv=5, estimator=SVC(), n_jobs=-1,\n",
       "             param_grid={&#x27;C&#x27;: [0.1, 1, 10, 100], &#x27;degree&#x27;: [2, 3, 4, 5],\n",
       "                         &#x27;gamma&#x27;: [1, 0.1, 0.01, 0.001],\n",
       "                         &#x27;kernel&#x27;: [&#x27;rbf&#x27;, &#x27;poly&#x27;, &#x27;sigmoid&#x27;]},\n",
       "             verbose=1)</pre></div></div></div><div class=\"sk-parallel\"><div class=\"sk-parallel-item\"><div class=\"sk-item\"><div class=\"sk-label-container\"><div class=\"sk-label sk-toggleable\"><input class=\"sk-toggleable__control sk-hidden--visually\" id=\"sk-estimator-id-2\" type=\"checkbox\" ><label for=\"sk-estimator-id-2\" class=\"sk-toggleable__label sk-toggleable__label-arrow\">estimator: SVC</label><div class=\"sk-toggleable__content\"><pre>SVC()</pre></div></div></div><div class=\"sk-serial\"><div class=\"sk-item\"><div class=\"sk-estimator sk-toggleable\"><input class=\"sk-toggleable__control sk-hidden--visually\" id=\"sk-estimator-id-3\" type=\"checkbox\" ><label for=\"sk-estimator-id-3\" class=\"sk-toggleable__label sk-toggleable__label-arrow\">SVC</label><div class=\"sk-toggleable__content\"><pre>SVC()</pre></div></div></div></div></div></div></div></div></div></div>"
      ],
      "text/plain": [
       "GridSearchCV(cv=5, estimator=SVC(), n_jobs=-1,\n",
       "             param_grid={'C': [0.1, 1, 10, 100], 'degree': [2, 3, 4, 5],\n",
       "                         'gamma': [1, 0.1, 0.01, 0.001],\n",
       "                         'kernel': ['rbf', 'poly', 'sigmoid']},\n",
       "             verbose=1)"
      ]
     },
     "execution_count": 15,
     "metadata": {},
     "output_type": "execute_result"
    }
   ],
   "source": [
    "grid_svm.fit(tf_x_train, y_train)"
   ]
  },
  {
   "cell_type": "code",
   "execution_count": 16,
   "metadata": {},
   "outputs": [
    {
     "name": "stdout",
     "output_type": "stream",
     "text": [
      "              precision    recall  f1-score   support\n",
      "\n",
      "          -1       0.72      0.81      0.76       589\n",
      "           1       0.74      0.64      0.69       506\n",
      "\n",
      "    accuracy                           0.73      1095\n",
      "   macro avg       0.73      0.73      0.73      1095\n",
      "weighted avg       0.73      0.73      0.73      1095\n",
      "\n",
      "Accuracy (Test Set): 0.7315\n",
      "Precision (Test Set): 0.7333\n",
      "Recall (Test Set): 0.7252\n",
      "F1-Score (Test Set): 0.7263\n"
     ]
    }
   ],
   "source": [
    "grid_svm_pred = grid_svm.predict(tf_x_test)\n",
    "print(classification_report(y_test, grid_svm_pred))\n",
    "eval_classification(grid_svm, grid_svm_pred, tf_x_train, y_train, tf_x_test, y_test)"
   ]
  },
  {
   "attachments": {},
   "cell_type": "markdown",
   "metadata": {},
   "source": [
    "## Model 2: KNN"
   ]
  },
  {
   "cell_type": "code",
   "execution_count": 62,
   "metadata": {},
   "outputs": [
    {
     "name": "stdout",
     "output_type": "stream",
     "text": [
      "Cross-validated accuracy score: 0.672379125896934\n",
      "Standard deviation: 0.016519206418885633\n",
      "[[401 188]\n",
      " [148 358]]\n",
      "Accuracy: 0.6931506849315069\n"
     ]
    }
   ],
   "source": [
    "from sklearn.neighbors import KNeighborsClassifier\n",
    "\n",
    "knn = KNeighborsClassifier()\n",
    "evaluate(knn, tf_x_train, y_train, tf_x_test, 5)"
   ]
  },
  {
   "cell_type": "code",
   "execution_count": 63,
   "metadata": {},
   "outputs": [
    {
     "name": "stdout",
     "output_type": "stream",
     "text": [
      "              precision    recall  f1-score   support\n",
      "\n",
      "          -1       0.73      0.68      0.70       589\n",
      "           1       0.66      0.71      0.68       506\n",
      "\n",
      "    accuracy                           0.69      1095\n",
      "   macro avg       0.69      0.69      0.69      1095\n",
      "weighted avg       0.70      0.69      0.69      1095\n",
      "\n",
      "Accuracy (Test Set): 0.6932\n",
      "Precision (Test Set): 0.6930\n",
      "Recall (Test Set): 0.6942\n",
      "F1-Score (Test Set): 0.6927\n"
     ]
    }
   ],
   "source": [
    "knn_pred = knn.predict(tf_x_test)\n",
    "print(classification_report(y_test, knn_pred))\n",
    "eval_classification(knn, knn_pred, tf_x_train, y_train, tf_x_test, y_test)"
   ]
  },
  {
   "cell_type": "code",
   "execution_count": 19,
   "metadata": {},
   "outputs": [],
   "source": [
    "knn_params = {\n",
    "    'n_neighbors': [5, 10, 15, 20],\n",
    "    'weights': ['uniform', 'distance'],\n",
    "    'metric': ['euclidean', 'manhattan']\n",
    "}\n",
    "\n",
    "grid_knn = GridSearchCV(\n",
    "    estimator=knn,\n",
    "    param_grid=knn_params,\n",
    "    cv=5,\n",
    "    verbose=1,\n",
    "    n_jobs=-1\n",
    ")"
   ]
  },
  {
   "cell_type": "code",
   "execution_count": 20,
   "metadata": {},
   "outputs": [
    {
     "name": "stdout",
     "output_type": "stream",
     "text": [
      "Fitting 5 folds for each of 16 candidates, totalling 80 fits\n"
     ]
    },
    {
     "data": {
      "text/html": [
       "<style>#sk-container-id-2 {color: black;background-color: white;}#sk-container-id-2 pre{padding: 0;}#sk-container-id-2 div.sk-toggleable {background-color: white;}#sk-container-id-2 label.sk-toggleable__label {cursor: pointer;display: block;width: 100%;margin-bottom: 0;padding: 0.3em;box-sizing: border-box;text-align: center;}#sk-container-id-2 label.sk-toggleable__label-arrow:before {content: \"▸\";float: left;margin-right: 0.25em;color: #696969;}#sk-container-id-2 label.sk-toggleable__label-arrow:hover:before {color: black;}#sk-container-id-2 div.sk-estimator:hover label.sk-toggleable__label-arrow:before {color: black;}#sk-container-id-2 div.sk-toggleable__content {max-height: 0;max-width: 0;overflow: hidden;text-align: left;background-color: #f0f8ff;}#sk-container-id-2 div.sk-toggleable__content pre {margin: 0.2em;color: black;border-radius: 0.25em;background-color: #f0f8ff;}#sk-container-id-2 input.sk-toggleable__control:checked~div.sk-toggleable__content {max-height: 200px;max-width: 100%;overflow: auto;}#sk-container-id-2 input.sk-toggleable__control:checked~label.sk-toggleable__label-arrow:before {content: \"▾\";}#sk-container-id-2 div.sk-estimator input.sk-toggleable__control:checked~label.sk-toggleable__label {background-color: #d4ebff;}#sk-container-id-2 div.sk-label input.sk-toggleable__control:checked~label.sk-toggleable__label {background-color: #d4ebff;}#sk-container-id-2 input.sk-hidden--visually {border: 0;clip: rect(1px 1px 1px 1px);clip: rect(1px, 1px, 1px, 1px);height: 1px;margin: -1px;overflow: hidden;padding: 0;position: absolute;width: 1px;}#sk-container-id-2 div.sk-estimator {font-family: monospace;background-color: #f0f8ff;border: 1px dotted black;border-radius: 0.25em;box-sizing: border-box;margin-bottom: 0.5em;}#sk-container-id-2 div.sk-estimator:hover {background-color: #d4ebff;}#sk-container-id-2 div.sk-parallel-item::after {content: \"\";width: 100%;border-bottom: 1px solid gray;flex-grow: 1;}#sk-container-id-2 div.sk-label:hover label.sk-toggleable__label {background-color: #d4ebff;}#sk-container-id-2 div.sk-serial::before {content: \"\";position: absolute;border-left: 1px solid gray;box-sizing: border-box;top: 0;bottom: 0;left: 50%;z-index: 0;}#sk-container-id-2 div.sk-serial {display: flex;flex-direction: column;align-items: center;background-color: white;padding-right: 0.2em;padding-left: 0.2em;position: relative;}#sk-container-id-2 div.sk-item {position: relative;z-index: 1;}#sk-container-id-2 div.sk-parallel {display: flex;align-items: stretch;justify-content: center;background-color: white;position: relative;}#sk-container-id-2 div.sk-item::before, #sk-container-id-2 div.sk-parallel-item::before {content: \"\";position: absolute;border-left: 1px solid gray;box-sizing: border-box;top: 0;bottom: 0;left: 50%;z-index: -1;}#sk-container-id-2 div.sk-parallel-item {display: flex;flex-direction: column;z-index: 1;position: relative;background-color: white;}#sk-container-id-2 div.sk-parallel-item:first-child::after {align-self: flex-end;width: 50%;}#sk-container-id-2 div.sk-parallel-item:last-child::after {align-self: flex-start;width: 50%;}#sk-container-id-2 div.sk-parallel-item:only-child::after {width: 0;}#sk-container-id-2 div.sk-dashed-wrapped {border: 1px dashed gray;margin: 0 0.4em 0.5em 0.4em;box-sizing: border-box;padding-bottom: 0.4em;background-color: white;}#sk-container-id-2 div.sk-label label {font-family: monospace;font-weight: bold;display: inline-block;line-height: 1.2em;}#sk-container-id-2 div.sk-label-container {text-align: center;}#sk-container-id-2 div.sk-container {/* jupyter's `normalize.less` sets `[hidden] { display: none; }` but bootstrap.min.css set `[hidden] { display: none !important; }` so we also need the `!important` here to be able to override the default hidden behavior on the sphinx rendered scikit-learn.org. See: https://github.com/scikit-learn/scikit-learn/issues/21755 */display: inline-block !important;position: relative;}#sk-container-id-2 div.sk-text-repr-fallback {display: none;}</style><div id=\"sk-container-id-2\" class=\"sk-top-container\"><div class=\"sk-text-repr-fallback\"><pre>GridSearchCV(cv=5, estimator=KNeighborsClassifier(), n_jobs=-1,\n",
       "             param_grid={&#x27;metric&#x27;: [&#x27;euclidean&#x27;, &#x27;manhattan&#x27;],\n",
       "                         &#x27;n_neighbors&#x27;: [5, 10, 15, 20],\n",
       "                         &#x27;weights&#x27;: [&#x27;uniform&#x27;, &#x27;distance&#x27;]},\n",
       "             verbose=1)</pre><b>In a Jupyter environment, please rerun this cell to show the HTML representation or trust the notebook. <br />On GitHub, the HTML representation is unable to render, please try loading this page with nbviewer.org.</b></div><div class=\"sk-container\" hidden><div class=\"sk-item sk-dashed-wrapped\"><div class=\"sk-label-container\"><div class=\"sk-label sk-toggleable\"><input class=\"sk-toggleable__control sk-hidden--visually\" id=\"sk-estimator-id-4\" type=\"checkbox\" ><label for=\"sk-estimator-id-4\" class=\"sk-toggleable__label sk-toggleable__label-arrow\">GridSearchCV</label><div class=\"sk-toggleable__content\"><pre>GridSearchCV(cv=5, estimator=KNeighborsClassifier(), n_jobs=-1,\n",
       "             param_grid={&#x27;metric&#x27;: [&#x27;euclidean&#x27;, &#x27;manhattan&#x27;],\n",
       "                         &#x27;n_neighbors&#x27;: [5, 10, 15, 20],\n",
       "                         &#x27;weights&#x27;: [&#x27;uniform&#x27;, &#x27;distance&#x27;]},\n",
       "             verbose=1)</pre></div></div></div><div class=\"sk-parallel\"><div class=\"sk-parallel-item\"><div class=\"sk-item\"><div class=\"sk-label-container\"><div class=\"sk-label sk-toggleable\"><input class=\"sk-toggleable__control sk-hidden--visually\" id=\"sk-estimator-id-5\" type=\"checkbox\" ><label for=\"sk-estimator-id-5\" class=\"sk-toggleable__label sk-toggleable__label-arrow\">estimator: KNeighborsClassifier</label><div class=\"sk-toggleable__content\"><pre>KNeighborsClassifier()</pre></div></div></div><div class=\"sk-serial\"><div class=\"sk-item\"><div class=\"sk-estimator sk-toggleable\"><input class=\"sk-toggleable__control sk-hidden--visually\" id=\"sk-estimator-id-6\" type=\"checkbox\" ><label for=\"sk-estimator-id-6\" class=\"sk-toggleable__label sk-toggleable__label-arrow\">KNeighborsClassifier</label><div class=\"sk-toggleable__content\"><pre>KNeighborsClassifier()</pre></div></div></div></div></div></div></div></div></div></div>"
      ],
      "text/plain": [
       "GridSearchCV(cv=5, estimator=KNeighborsClassifier(), n_jobs=-1,\n",
       "             param_grid={'metric': ['euclidean', 'manhattan'],\n",
       "                         'n_neighbors': [5, 10, 15, 20],\n",
       "                         'weights': ['uniform', 'distance']},\n",
       "             verbose=1)"
      ]
     },
     "execution_count": 20,
     "metadata": {},
     "output_type": "execute_result"
    }
   ],
   "source": [
    "grid_knn.fit(tf_x_train, y_train)"
   ]
  },
  {
   "cell_type": "code",
   "execution_count": 21,
   "metadata": {},
   "outputs": [
    {
     "name": "stdout",
     "output_type": "stream",
     "text": [
      "              precision    recall  f1-score   support\n",
      "\n",
      "          -1       0.74      0.67      0.70       589\n",
      "           1       0.65      0.72      0.68       506\n",
      "\n",
      "    accuracy                           0.69      1095\n",
      "   macro avg       0.69      0.70      0.69      1095\n",
      "weighted avg       0.70      0.69      0.69      1095\n",
      "\n",
      "Accuracy (Test Set): 0.6941\n",
      "Precision (Test Set): 0.6948\n",
      "Recall (Test Set): 0.6958\n",
      "F1-Score (Test Set): 0.6938\n"
     ]
    }
   ],
   "source": [
    "grid_knn_pred = grid_knn.predict(tf_x_test)\n",
    "print(classification_report(y_test, grid_knn_pred))\n",
    "eval_classification(grid_knn, grid_knn_pred, tf_x_train, y_train, tf_x_test, y_test)"
   ]
  },
  {
   "attachments": {},
   "cell_type": "markdown",
   "metadata": {},
   "source": [
    "## Model 3: Decision Tree"
   ]
  },
  {
   "cell_type": "code",
   "execution_count": 64,
   "metadata": {},
   "outputs": [
    {
     "name": "stdout",
     "output_type": "stream",
     "text": [
      "Cross-validated accuracy score: 0.6657518590998043\n",
      "Standard deviation: 0.00982348541653699\n",
      "[[416 173]\n",
      " [194 312]]\n",
      "Accuracy: 0.6648401826484018\n"
     ]
    }
   ],
   "source": [
    "from sklearn.tree import DecisionTreeClassifier\n",
    "\n",
    "dt = DecisionTreeClassifier()\n",
    "evaluate(dt, tf_x_train, y_train, tf_x_test, 5)"
   ]
  },
  {
   "cell_type": "code",
   "execution_count": 65,
   "metadata": {},
   "outputs": [
    {
     "name": "stdout",
     "output_type": "stream",
     "text": [
      "              precision    recall  f1-score   support\n",
      "\n",
      "          -1       0.68      0.71      0.69       589\n",
      "           1       0.64      0.62      0.63       506\n",
      "\n",
      "    accuracy                           0.66      1095\n",
      "   macro avg       0.66      0.66      0.66      1095\n",
      "weighted avg       0.66      0.66      0.66      1095\n",
      "\n",
      "Accuracy (Test Set): 0.6648\n",
      "Precision (Test Set): 0.6626\n",
      "Recall (Test Set): 0.6614\n",
      "F1-Score (Test Set): 0.6618\n"
     ]
    }
   ],
   "source": [
    "dt_pred = dt.predict(tf_x_test)\n",
    "print(classification_report(y_test, dt_pred))\n",
    "eval_classification(dt, dt_pred, tf_x_train, y_train, tf_x_test, y_test)"
   ]
  },
  {
   "attachments": {},
   "cell_type": "markdown",
   "metadata": {},
   "source": [
    "## Model 4: Naive Bayes"
   ]
  },
  {
   "cell_type": "code",
   "execution_count": 66,
   "metadata": {},
   "outputs": [
    {
     "name": "stdout",
     "output_type": "stream",
     "text": [
      "Cross-validated accuracy score: 0.7308667971298108\n",
      "Standard deviation: 0.014592234254958909\n",
      "[[495  94]\n",
      " [187 319]]\n",
      "Accuracy: 0.7433789954337899\n"
     ]
    }
   ],
   "source": [
    "from sklearn.naive_bayes import MultinomialNB\n",
    "\n",
    "nb = MultinomialNB()\n",
    "evaluate(nb, tf_x_train, y_train, tf_x_test, 5)"
   ]
  },
  {
   "cell_type": "code",
   "execution_count": 67,
   "metadata": {},
   "outputs": [
    {
     "name": "stdout",
     "output_type": "stream",
     "text": [
      "              precision    recall  f1-score   support\n",
      "\n",
      "          -1       0.73      0.84      0.78       589\n",
      "           1       0.77      0.63      0.69       506\n",
      "\n",
      "    accuracy                           0.74      1095\n",
      "   macro avg       0.75      0.74      0.74      1095\n",
      "weighted avg       0.75      0.74      0.74      1095\n",
      "\n",
      "Accuracy (Test Set): 0.7434\n",
      "Precision (Test Set): 0.7491\n",
      "Recall (Test Set): 0.7354\n",
      "F1-Score (Test Set): 0.7366\n"
     ]
    }
   ],
   "source": [
    "nb_pred = nb.predict(tf_x_test)\n",
    "print(classification_report(y_test, nb_pred))\n",
    "eval_classification(nb, nb_pred, tf_x_train, y_train, tf_x_test, y_test)"
   ]
  },
  {
   "attachments": {},
   "cell_type": "markdown",
   "metadata": {},
   "source": [
    "## Model 5: Random Forest"
   ]
  },
  {
   "cell_type": "code",
   "execution_count": 68,
   "metadata": {},
   "outputs": [
    {
     "name": "stdout",
     "output_type": "stream",
     "text": [
      "Cross-validated accuracy score: 0.7196714938030007\n",
      "Standard deviation: 0.011519958818980092\n",
      "[[465 124]\n",
      " [166 340]]\n",
      "Accuracy: 0.7351598173515982\n"
     ]
    }
   ],
   "source": [
    "from sklearn.ensemble import RandomForestClassifier\n",
    "\n",
    "rf = RandomForestClassifier(n_estimators=100, criterion='entropy')\n",
    "evaluate(rf, tf_x_train, y_train, tf_x_test, 5)"
   ]
  },
  {
   "cell_type": "code",
   "execution_count": 145,
   "metadata": {},
   "outputs": [
    {
     "name": "stdout",
     "output_type": "stream",
     "text": [
      "              precision    recall  f1-score   support\n",
      "\n",
      "          -1       0.74      0.79      0.76       589\n",
      "           1       0.73      0.67      0.70       506\n",
      "\n",
      "    accuracy                           0.74      1095\n",
      "   macro avg       0.73      0.73      0.73      1095\n",
      "weighted avg       0.73      0.74      0.73      1095\n",
      "\n",
      "Accuracy (Test Set): 0.7352\n",
      "Precision (Test Set): 0.7348\n",
      "Recall (Test Set): 0.7307\n",
      "F1-Score (Test Set): 0.7317\n"
     ]
    }
   ],
   "source": [
    "rf_pred = rf.predict(tf_x_test)\n",
    "print(classification_report(y_test, rf_pred))\n",
    "eval_classification(rf, rf_pred, tf_x_train, y_train, tf_x_test, y_test)"
   ]
  },
  {
   "attachments": {},
   "cell_type": "markdown",
   "metadata": {},
   "source": [
    "## Model 6: Voting-Hard"
   ]
  },
  {
   "cell_type": "code",
   "execution_count": 69,
   "metadata": {},
   "outputs": [],
   "source": [
    "estimators = [\n",
    "    ('svm', svm),\n",
    "    ('knn', knn),\n",
    "    ('dt', dt),\n",
    "    ('nb', nb)\n",
    "]"
   ]
  },
  {
   "cell_type": "code",
   "execution_count": 70,
   "metadata": {},
   "outputs": [
    {
     "name": "stdout",
     "output_type": "stream",
     "text": [
      "Cross-validated accuracy score: 0.7310974559686889\n",
      "Standard deviation: 0.013527820196302233\n",
      "[[502  87]\n",
      " [204 302]]\n",
      "Accuracy: 0.7342465753424657\n"
     ]
    }
   ],
   "source": [
    "# Voting Classifier\n",
    "from sklearn.ensemble import VotingClassifier\n",
    "\n",
    "voting_hard = VotingClassifier(estimators=estimators, voting='hard')\n",
    "evaluate(voting_hard, tf_x_train, y_train, tf_x_test, 5)"
   ]
  },
  {
   "cell_type": "code",
   "execution_count": 71,
   "metadata": {},
   "outputs": [
    {
     "name": "stdout",
     "output_type": "stream",
     "text": [
      "              precision    recall  f1-score   support\n",
      "\n",
      "          -1       0.71      0.85      0.78       589\n",
      "           1       0.78      0.60      0.67       506\n",
      "\n",
      "    accuracy                           0.73      1095\n",
      "   macro avg       0.74      0.72      0.73      1095\n",
      "weighted avg       0.74      0.73      0.73      1095\n",
      "\n",
      "Accuracy (Test Set): 0.7342\n",
      "Precision (Test Set): 0.7437\n",
      "Recall (Test Set): 0.7246\n",
      "F1-Score (Test Set): 0.7251\n"
     ]
    }
   ],
   "source": [
    "voting_hard_pred = voting_hard.predict(tf_x_test)\n",
    "print(classification_report(y_test, voting_hard_pred))\n",
    "eval_classification(voting_hard, voting_hard_pred, tf_x_train, y_train, tf_x_test, y_test)"
   ]
  },
  {
   "attachments": {},
   "cell_type": "markdown",
   "metadata": {},
   "source": [
    "# Evaluasi"
   ]
  },
  {
   "cell_type": "code",
   "execution_count": 72,
   "metadata": {},
   "outputs": [
    {
     "data": {
      "text/html": [
       "<div>\n",
       "<style scoped>\n",
       "    .dataframe tbody tr th:only-of-type {\n",
       "        vertical-align: middle;\n",
       "    }\n",
       "\n",
       "    .dataframe tbody tr th {\n",
       "        vertical-align: top;\n",
       "    }\n",
       "\n",
       "    .dataframe thead th {\n",
       "        text-align: right;\n",
       "    }\n",
       "</style>\n",
       "<table border=\"1\" class=\"dataframe\">\n",
       "  <thead>\n",
       "    <tr style=\"text-align: right;\">\n",
       "      <th></th>\n",
       "      <th>model</th>\n",
       "      <th>cross validation accuracy</th>\n",
       "      <th>standard deviations</th>\n",
       "      <th>test accuracy</th>\n",
       "    </tr>\n",
       "  </thead>\n",
       "  <tbody>\n",
       "    <tr>\n",
       "      <th>3</th>\n",
       "      <td>MultinomialNB</td>\n",
       "      <td>0.730867</td>\n",
       "      <td>0.014592</td>\n",
       "      <td>0.743379</td>\n",
       "    </tr>\n",
       "    <tr>\n",
       "      <th>4</th>\n",
       "      <td>RandomForestClassifier</td>\n",
       "      <td>0.719671</td>\n",
       "      <td>0.011520</td>\n",
       "      <td>0.735160</td>\n",
       "    </tr>\n",
       "    <tr>\n",
       "      <th>5</th>\n",
       "      <td>VotingClassifier</td>\n",
       "      <td>0.731097</td>\n",
       "      <td>0.013528</td>\n",
       "      <td>0.734247</td>\n",
       "    </tr>\n",
       "    <tr>\n",
       "      <th>0</th>\n",
       "      <td>SVC</td>\n",
       "      <td>0.736351</td>\n",
       "      <td>0.015643</td>\n",
       "      <td>0.731507</td>\n",
       "    </tr>\n",
       "    <tr>\n",
       "      <th>1</th>\n",
       "      <td>KNeighborsClassifier</td>\n",
       "      <td>0.672379</td>\n",
       "      <td>0.016519</td>\n",
       "      <td>0.693151</td>\n",
       "    </tr>\n",
       "    <tr>\n",
       "      <th>2</th>\n",
       "      <td>DecisionTreeClassifier</td>\n",
       "      <td>0.665752</td>\n",
       "      <td>0.009823</td>\n",
       "      <td>0.664840</td>\n",
       "    </tr>\n",
       "  </tbody>\n",
       "</table>\n",
       "</div>"
      ],
      "text/plain": [
       "                    model  cross validation accuracy  standard deviations  \\\n",
       "3           MultinomialNB                   0.730867             0.014592   \n",
       "4  RandomForestClassifier                   0.719671             0.011520   \n",
       "5        VotingClassifier                   0.731097             0.013528   \n",
       "0                     SVC                   0.736351             0.015643   \n",
       "1    KNeighborsClassifier                   0.672379             0.016519   \n",
       "2  DecisionTreeClassifier                   0.665752             0.009823   \n",
       "\n",
       "   test accuracy  \n",
       "3       0.743379  \n",
       "4       0.735160  \n",
       "5       0.734247  \n",
       "0       0.731507  \n",
       "1       0.693151  \n",
       "2       0.664840  "
      ]
     },
     "execution_count": 72,
     "metadata": {},
     "output_type": "execute_result"
    }
   ],
   "source": [
    "model_score.sort_values(by='test accuracy', ascending=False)"
   ]
  },
  {
   "cell_type": "code",
   "execution_count": 144,
   "metadata": {},
   "outputs": [],
   "source": [
    "# save model\n",
    "import pickle\n",
    "\n",
    "best_model = rf\n",
    "filename = 'model2.sav'\n",
    "pickle.dump(best_model, open(filename, 'wb'))"
   ]
  },
  {
   "attachments": {},
   "cell_type": "markdown",
   "metadata": {},
   "source": [
    "# Testing"
   ]
  },
  {
   "cell_type": "code",
   "execution_count": 135,
   "metadata": {},
   "outputs": [],
   "source": [
    "model = pickle.load(open('model.sav', 'rb'))"
   ]
  },
  {
   "cell_type": "code",
   "execution_count": 37,
   "metadata": {},
   "outputs": [],
   "source": [
    "def predict(model, df_test):\n",
    "    # Scale the data\n",
    "\n",
    "    # Predict the label\n",
    "    label = model.predict(df_test)\n",
    "\n",
    "    # Define the dictionary of labels\n",
    "    labels = {\n",
    "        -1 : \"Negatif\",\n",
    "        1: \"Positif\",\n",
    "    }\n",
    "\n",
    "    # Return the label\n",
    "    return labels[label[0]]"
   ]
  },
  {
   "attachments": {},
   "cell_type": "markdown",
   "metadata": {},
   "source": [
    "## Pra Kejadian"
   ]
  },
  {
   "attachments": {},
   "cell_type": "markdown",
   "metadata": {},
   "source": [
    "https://twitter.com/ardhitoprmn/status/1295000749831684096?t=wwrmFL9K9J76jGum3nzIDA&s=19"
   ]
  },
  {
   "cell_type": "code",
   "execution_count": 38,
   "metadata": {},
   "outputs": [
    {
     "data": {
      "text/plain": [
       "0"
      ]
     },
     "execution_count": 38,
     "metadata": {},
     "output_type": "execute_result"
    }
   ],
   "source": [
    "pra_kejadian = pd.read_csv('preprocessed-data\\cp_preprocessed_pra.csv')\n",
    "pra_kejadian.isnull().values.sum()"
   ]
  },
  {
   "cell_type": "code",
   "execution_count": 39,
   "metadata": {},
   "outputs": [
    {
     "data": {
      "text/html": [
       "<div>\n",
       "<style scoped>\n",
       "    .dataframe tbody tr th:only-of-type {\n",
       "        vertical-align: middle;\n",
       "    }\n",
       "\n",
       "    .dataframe tbody tr th {\n",
       "        vertical-align: top;\n",
       "    }\n",
       "\n",
       "    .dataframe thead th {\n",
       "        text-align: right;\n",
       "    }\n",
       "</style>\n",
       "<table border=\"1\" class=\"dataframe\">\n",
       "  <thead>\n",
       "    <tr style=\"text-align: right;\">\n",
       "      <th></th>\n",
       "      <th>tweet</th>\n",
       "      <th>sentiment</th>\n",
       "    </tr>\n",
       "  </thead>\n",
       "  <tbody>\n",
       "    <tr>\n",
       "      <th>0</th>\n",
       "      <td>Akhirnya bisa nonton bang ardhito manggung lagi</td>\n",
       "      <td>Positif</td>\n",
       "    </tr>\n",
       "    <tr>\n",
       "      <th>1</th>\n",
       "      <td>Wooww aku blm pernah nonton ardhito</td>\n",
       "      <td>Negatif</td>\n",
       "    </tr>\n",
       "    <tr>\n",
       "      <th>2</th>\n",
       "      <td>that's my baby</td>\n",
       "      <td>Positif</td>\n",
       "    </tr>\n",
       "    <tr>\n",
       "      <th>3</th>\n",
       "      <td>Akhirnya bisa ngrasain suasana gigs lagi setel...</td>\n",
       "      <td>Negatif</td>\n",
       "    </tr>\n",
       "    <tr>\n",
       "      <th>4</th>\n",
       "      <td>Akhirnya bisa nonton ardhito manggung</td>\n",
       "      <td>Positif</td>\n",
       "    </tr>\n",
       "    <tr>\n",
       "      <th>...</th>\n",
       "      <td>...</td>\n",
       "      <td>...</td>\n",
       "    </tr>\n",
       "    <tr>\n",
       "      <th>90</th>\n",
       "      <td>Keren banget sumpah. Sepanjang konser ikutan n...</td>\n",
       "      <td>Positif</td>\n",
       "    </tr>\n",
       "    <tr>\n",
       "      <th>91</th>\n",
       "      <td>Apa kabar omnibuslaw bung? Merdeka!!</td>\n",
       "      <td>Negatif</td>\n",
       "    </tr>\n",
       "    <tr>\n",
       "      <th>92</th>\n",
       "      <td>mantapppp</td>\n",
       "      <td>Positif</td>\n",
       "    </tr>\n",
       "    <tr>\n",
       "      <th>93</th>\n",
       "      <td>Kapan dito</td>\n",
       "      <td>Negatif</td>\n",
       "    </tr>\n",
       "    <tr>\n",
       "      <th>94</th>\n",
       "      <td>Aww sayang aku</td>\n",
       "      <td>Positif</td>\n",
       "    </tr>\n",
       "  </tbody>\n",
       "</table>\n",
       "<p>95 rows × 2 columns</p>\n",
       "</div>"
      ],
      "text/plain": [
       "                                                tweet sentiment\n",
       "0     Akhirnya bisa nonton bang ardhito manggung lagi   Positif\n",
       "1                 Wooww aku blm pernah nonton ardhito   Negatif\n",
       "2                                      that's my baby   Positif\n",
       "3   Akhirnya bisa ngrasain suasana gigs lagi setel...   Negatif\n",
       "4               Akhirnya bisa nonton ardhito manggung   Positif\n",
       "..                                                ...       ...\n",
       "90  Keren banget sumpah. Sepanjang konser ikutan n...   Positif\n",
       "91               Apa kabar omnibuslaw bung? Merdeka!!   Negatif\n",
       "92                                          mantapppp   Positif\n",
       "93                                         Kapan dito   Negatif\n",
       "94                                     Aww sayang aku   Positif\n",
       "\n",
       "[95 rows x 2 columns]"
      ]
     },
     "execution_count": 39,
     "metadata": {},
     "output_type": "execute_result"
    }
   ],
   "source": [
    "tf_pra_kejadian = vectorizer.transform(pra_kejadian['Processed Text'])\n",
    "pra_kejadian['sentiment'] = [predict(rf, tf_pra_kejadian[i]) for i in range(len(pra_kejadian['tweet']))]\n",
    "\n",
    "# show tweet and sentiment column\n",
    "pra_kejadian[['tweet', 'sentiment']]"
   ]
  },
  {
   "attachments": {},
   "cell_type": "markdown",
   "metadata": {},
   "source": [
    "## Pra Kejadian 2"
   ]
  },
  {
   "attachments": {},
   "cell_type": "markdown",
   "metadata": {},
   "source": [
    "https://twitter.com/ardhitoprmn/status/1295000749831684096?t=wwrmFL9K9J76jGum3nzIDA&s=19"
   ]
  },
  {
   "cell_type": "code",
   "execution_count": 76,
   "metadata": {},
   "outputs": [
    {
     "data": {
      "text/plain": [
       "0"
      ]
     },
     "execution_count": 76,
     "metadata": {},
     "output_type": "execute_result"
    }
   ],
   "source": [
    "pra_kejadian2 = pd.read_csv('preprocessed-data\\preprocessed-tweet-pra-kejadian.csv')\n",
    "pra_kejadian2.isnull().values.sum()"
   ]
  },
  {
   "cell_type": "code",
   "execution_count": 106,
   "metadata": {},
   "outputs": [
    {
     "data": {
      "text/html": [
       "<div>\n",
       "<style scoped>\n",
       "    .dataframe tbody tr th:only-of-type {\n",
       "        vertical-align: middle;\n",
       "    }\n",
       "\n",
       "    .dataframe tbody tr th {\n",
       "        vertical-align: top;\n",
       "    }\n",
       "\n",
       "    .dataframe thead th {\n",
       "        text-align: right;\n",
       "    }\n",
       "</style>\n",
       "<table border=\"1\" class=\"dataframe\">\n",
       "  <thead>\n",
       "    <tr style=\"text-align: right;\">\n",
       "      <th></th>\n",
       "      <th>tweet</th>\n",
       "      <th>sentiment</th>\n",
       "    </tr>\n",
       "  </thead>\n",
       "  <tbody>\n",
       "    <tr>\n",
       "      <th>0</th>\n",
       "      <td>komen</td>\n",
       "      <td>Positif</td>\n",
       "    </tr>\n",
       "    <tr>\n",
       "      <th>1</th>\n",
       "      <td>Nah gini dari pada lo cuma balesin tweet gue, ...</td>\n",
       "      <td>Negatif</td>\n",
       "    </tr>\n",
       "    <tr>\n",
       "      <th>2</th>\n",
       "      <td>iya iya</td>\n",
       "      <td>Positif</td>\n",
       "    </tr>\n",
       "    <tr>\n",
       "      <th>3</th>\n",
       "      <td>This is awesome :)</td>\n",
       "      <td>Negatif</td>\n",
       "    </tr>\n",
       "    <tr>\n",
       "      <th>4</th>\n",
       "      <td>Sini bagi bahagianya</td>\n",
       "      <td>Positif</td>\n",
       "    </tr>\n",
       "    <tr>\n",
       "      <th>...</th>\n",
       "      <td>...</td>\n",
       "      <td>...</td>\n",
       "    </tr>\n",
       "    <tr>\n",
       "      <th>82</th>\n",
       "      <td>~~ iklan yaa kak</td>\n",
       "      <td>Positif</td>\n",
       "    </tr>\n",
       "    <tr>\n",
       "      <th>83</th>\n",
       "      <td>izin numpang jualan kak</td>\n",
       "      <td>Positif</td>\n",
       "    </tr>\n",
       "    <tr>\n",
       "      <th>84</th>\n",
       "      <td>halooo, aku jual netflix viu dll yuk dm langsu...</td>\n",
       "      <td>Negatif</td>\n",
       "    </tr>\n",
       "    <tr>\n",
       "      <th>85</th>\n",
       "      <td>\"</td>\n",
       "      <td>Positif</td>\n",
       "    </tr>\n",
       "    <tr>\n",
       "      <th>86</th>\n",
       "      <td>songs that make your day feel better\"</td>\n",
       "      <td>Positif</td>\n",
       "    </tr>\n",
       "  </tbody>\n",
       "</table>\n",
       "<p>87 rows × 2 columns</p>\n",
       "</div>"
      ],
      "text/plain": [
       "                                                tweet sentiment\n",
       "0                                               komen   Positif\n",
       "1   Nah gini dari pada lo cuma balesin tweet gue, ...   Negatif\n",
       "2                                             iya iya   Positif\n",
       "3                                  This is awesome :)   Negatif\n",
       "4                                Sini bagi bahagianya   Positif\n",
       "..                                                ...       ...\n",
       "82                                   ~~ iklan yaa kak   Positif\n",
       "83                            izin numpang jualan kak   Positif\n",
       "84  halooo, aku jual netflix viu dll yuk dm langsu...   Negatif\n",
       "85                                                  \"   Positif\n",
       "86              songs that make your day feel better\"   Positif\n",
       "\n",
       "[87 rows x 2 columns]"
      ]
     },
     "execution_count": 106,
     "metadata": {},
     "output_type": "execute_result"
    }
   ],
   "source": [
    "tf_pra_kejadian2 = vectorizer.transform(pra_kejadian2['Processed Text'])\n",
    "pra_kejadian2['sentiment'] = [predict(rf, tf_pra_kejadian2[i]) for i in range(len(pra_kejadian2['tweet']))]\n",
    "\n",
    "# show tweet and sentiment column\n",
    "pra_kejadian2[['tweet', 'sentiment']]"
   ]
  },
  {
   "attachments": {},
   "cell_type": "markdown",
   "metadata": {},
   "source": [
    "## Pasca Kejadian"
   ]
  },
  {
   "attachments": {},
   "cell_type": "markdown",
   "metadata": {},
   "source": [
    "https://twitter.com/AREAJULID/status/1481583097036816390?t=5jPSjPehO5vEo5abjSCp5g&s=19"
   ]
  },
  {
   "cell_type": "code",
   "execution_count": 110,
   "metadata": {},
   "outputs": [
    {
     "data": {
      "text/plain": [
       "0"
      ]
     },
     "execution_count": 110,
     "metadata": {},
     "output_type": "execute_result"
    }
   ],
   "source": [
    "pasca_kejadian = pd.read_csv('preprocessed-data\\preprocessed-tweet-pasca-kejadian.csv')\n",
    "pasca_kejadian.isnull().values.sum()"
   ]
  },
  {
   "cell_type": "code",
   "execution_count": 142,
   "metadata": {},
   "outputs": [
    {
     "data": {
      "text/html": [
       "<div>\n",
       "<style scoped>\n",
       "    .dataframe tbody tr th:only-of-type {\n",
       "        vertical-align: middle;\n",
       "    }\n",
       "\n",
       "    .dataframe tbody tr th {\n",
       "        vertical-align: top;\n",
       "    }\n",
       "\n",
       "    .dataframe thead th {\n",
       "        text-align: right;\n",
       "    }\n",
       "</style>\n",
       "<table border=\"1\" class=\"dataframe\">\n",
       "  <thead>\n",
       "    <tr style=\"text-align: right;\">\n",
       "      <th></th>\n",
       "      <th>tweet</th>\n",
       "      <th>sentiment</th>\n",
       "    </tr>\n",
       "  </thead>\n",
       "  <tbody>\n",
       "    <tr>\n",
       "      <th>0</th>\n",
       "      <td>Iyaa lagi:)</td>\n",
       "      <td>Positif</td>\n",
       "    </tr>\n",
       "    <tr>\n",
       "      <th>1</th>\n",
       "      <td>aku yang tidak peduli</td>\n",
       "      <td>Negatif</td>\n",
       "    </tr>\n",
       "    <tr>\n",
       "      <th>2</th>\n",
       "      <td>RUMOR DI TWT KATANYA UDH PUNYA ANAK JUGAAA</td>\n",
       "      <td>Negatif</td>\n",
       "    </tr>\n",
       "    <tr>\n",
       "      <th>3</th>\n",
       "      <td>\"Berdiam terlihat jomblo,</td>\n",
       "      <td>Negatif</td>\n",
       "    </tr>\n",
       "    <tr>\n",
       "      <th>4</th>\n",
       "      <td>Bergerak bikin melongo \"</td>\n",
       "      <td>Positif</td>\n",
       "    </tr>\n",
       "    <tr>\n",
       "      <th>...</th>\n",
       "      <td>...</td>\n",
       "      <td>...</td>\n",
       "    </tr>\n",
       "    <tr>\n",
       "      <th>150</th>\n",
       "      <td>1. Korean midi dress 119k \"</td>\n",
       "      <td>Negatif</td>\n",
       "    </tr>\n",
       "    <tr>\n",
       "      <th>151</th>\n",
       "      <td>Yg cari alumunium foil nih murah meriah free o...</td>\n",
       "      <td>Positif</td>\n",
       "    </tr>\n",
       "    <tr>\n",
       "      <th>152</th>\n",
       "      <td>twitter pls do your magic! telor dadar ini dij...</td>\n",
       "      <td>Negatif</td>\n",
       "    </tr>\n",
       "    <tr>\n",
       "      <th>153</th>\n",
       "      <td>Ardito gak suka camping si. Kalo demen kan gak...</td>\n",
       "      <td>Negatif</td>\n",
       "    </tr>\n",
       "    <tr>\n",
       "      <th>154</th>\n",
       "      <td>Gw yg ga tau dia siapa</td>\n",
       "      <td>Negatif</td>\n",
       "    </tr>\n",
       "  </tbody>\n",
       "</table>\n",
       "<p>155 rows × 2 columns</p>\n",
       "</div>"
      ],
      "text/plain": [
       "                                                 tweet sentiment\n",
       "0                                          Iyaa lagi:)   Positif\n",
       "1                                aku yang tidak peduli   Negatif\n",
       "2           RUMOR DI TWT KATANYA UDH PUNYA ANAK JUGAAA   Negatif\n",
       "3                            \"Berdiam terlihat jomblo,   Negatif\n",
       "4                             Bergerak bikin melongo \"   Positif\n",
       "..                                                 ...       ...\n",
       "150                        1. Korean midi dress 119k \"   Negatif\n",
       "151  Yg cari alumunium foil nih murah meriah free o...   Positif\n",
       "152  twitter pls do your magic! telor dadar ini dij...   Negatif\n",
       "153  Ardito gak suka camping si. Kalo demen kan gak...   Negatif\n",
       "154                             Gw yg ga tau dia siapa   Negatif\n",
       "\n",
       "[155 rows x 2 columns]"
      ]
     },
     "execution_count": 142,
     "metadata": {},
     "output_type": "execute_result"
    }
   ],
   "source": [
    "tf_pasca_kejadian = vectorizer.transform(pasca_kejadian['Processed Text'])\n",
    "pasca_kejadian['sentiment'] = [predict(rf, tf_pasca_kejadian[i]) for i in range(len(pasca_kejadian['tweet']))]\n",
    "\n",
    "# show tweet and sentiment column\n",
    "pasca_kejadian[['tweet', 'sentiment']]"
   ]
  },
  {
   "attachments": {},
   "cell_type": "markdown",
   "metadata": {},
   "source": [
    "## Pasca Kejadian 2"
   ]
  },
  {
   "attachments": {},
   "cell_type": "markdown",
   "metadata": {},
   "source": [
    "https://twitter.com/mazzini_gsp/status/1482352824763949056?t=gh3jW7diN9FIAamvpm2CMw&s=19"
   ]
  },
  {
   "cell_type": "code",
   "execution_count": 118,
   "metadata": {},
   "outputs": [
    {
     "data": {
      "text/plain": [
       "0"
      ]
     },
     "execution_count": 118,
     "metadata": {},
     "output_type": "execute_result"
    }
   ],
   "source": [
    "pasca_kejadian2 = pd.read_csv('preprocessed-data\\cp4_revised_preprocessed_pasca.csv')\n",
    "pasca_kejadian2.isnull().values.sum()"
   ]
  },
  {
   "cell_type": "code",
   "execution_count": 119,
   "metadata": {},
   "outputs": [
    {
     "data": {
      "text/plain": [
       "0"
      ]
     },
     "execution_count": 119,
     "metadata": {},
     "output_type": "execute_result"
    }
   ],
   "source": [
    "# drop rows with missing values\n",
    "pasca_kejadian2 = pasca_kejadian2.dropna(subset=['Processed Text'])\n",
    "pasca_kejadian2.isnull().values.sum()"
   ]
  },
  {
   "cell_type": "code",
   "execution_count": 138,
   "metadata": {},
   "outputs": [
    {
     "data": {
      "text/html": [
       "<div>\n",
       "<style scoped>\n",
       "    .dataframe tbody tr th:only-of-type {\n",
       "        vertical-align: middle;\n",
       "    }\n",
       "\n",
       "    .dataframe tbody tr th {\n",
       "        vertical-align: top;\n",
       "    }\n",
       "\n",
       "    .dataframe thead th {\n",
       "        text-align: right;\n",
       "    }\n",
       "</style>\n",
       "<table border=\"1\" class=\"dataframe\">\n",
       "  <thead>\n",
       "    <tr style=\"text-align: right;\">\n",
       "      <th></th>\n",
       "      <th>tweet</th>\n",
       "      <th>sentiment</th>\n",
       "    </tr>\n",
       "  </thead>\n",
       "  <tbody>\n",
       "    <tr>\n",
       "      <th>0</th>\n",
       "      <td>\"Ini hasil dari pengembangan kasus dan laporan...</td>\n",
       "      <td>Negatif</td>\n",
       "    </tr>\n",
       "    <tr>\n",
       "      <th>1</th>\n",
       "      <td>Bisa jadi sih, atau cepu tadi ya.</td>\n",
       "      <td>Positif</td>\n",
       "    </tr>\n",
       "    <tr>\n",
       "      <th>2</th>\n",
       "      <td>Klo nggak di list mungkun FF juga udh ditangka...</td>\n",
       "      <td>Negatif</td>\n",
       "    </tr>\n",
       "    <tr>\n",
       "      <th>3</th>\n",
       "      <td>polisi nyambi jd temen artis kan juga banyak bang</td>\n",
       "      <td>Positif</td>\n",
       "    </tr>\n",
       "    <tr>\n",
       "      <th>4</th>\n",
       "      <td>Di bandar nya ada cepu bang.</td>\n",
       "      <td>Negatif</td>\n",
       "    </tr>\n",
       "    <tr>\n",
       "      <th>...</th>\n",
       "      <td>...</td>\n",
       "      <td>...</td>\n",
       "    </tr>\n",
       "    <tr>\n",
       "      <th>188</th>\n",
       "      <td>sbner nya data nya udah ada..  trus masa pengi...</td>\n",
       "      <td>Positif</td>\n",
       "    </tr>\n",
       "    <tr>\n",
       "      <th>189</th>\n",
       "      <td>biasa nya ini ulah bede nya jga..</td>\n",
       "      <td>Negatif</td>\n",
       "    </tr>\n",
       "    <tr>\n",
       "      <th>190</th>\n",
       "      <td>udh rahasia umum...polisi mah udh pegang nama ...</td>\n",
       "      <td>Positif</td>\n",
       "    </tr>\n",
       "    <tr>\n",
       "      <th>191</th>\n",
       "      <td>percaya sama polisi? hahahahahaha</td>\n",
       "      <td>Positif</td>\n",
       "    </tr>\n",
       "    <tr>\n",
       "      <th>192</th>\n",
       "      <td>Cepu dan bandar adalah masyarakat</td>\n",
       "      <td>Negatif</td>\n",
       "    </tr>\n",
       "  </tbody>\n",
       "</table>\n",
       "<p>193 rows × 2 columns</p>\n",
       "</div>"
      ],
      "text/plain": [
       "                                                 tweet sentiment\n",
       "0    \"Ini hasil dari pengembangan kasus dan laporan...   Negatif\n",
       "1                    Bisa jadi sih, atau cepu tadi ya.   Positif\n",
       "2    Klo nggak di list mungkun FF juga udh ditangka...   Negatif\n",
       "3    polisi nyambi jd temen artis kan juga banyak bang   Positif\n",
       "4                         Di bandar nya ada cepu bang.   Negatif\n",
       "..                                                 ...       ...\n",
       "188  sbner nya data nya udah ada..  trus masa pengi...   Positif\n",
       "189                 biasa nya ini ulah bede nya jga..    Negatif\n",
       "190  udh rahasia umum...polisi mah udh pegang nama ...   Positif\n",
       "191                 percaya sama polisi? hahahahahaha    Positif\n",
       "192                  Cepu dan bandar adalah masyarakat   Negatif\n",
       "\n",
       "[193 rows x 2 columns]"
      ]
     },
     "execution_count": 138,
     "metadata": {},
     "output_type": "execute_result"
    }
   ],
   "source": [
    "tf_pasca_kejadian2 = vectorizer.transform(pasca_kejadian2['Processed Text'])\n",
    "pasca_kejadian2['sentiment'] = [predict(rf, tf_pasca_kejadian2[i]) for i in range(len(pasca_kejadian2['tweet']))]\n",
    "\n",
    "# show tweet and sentiment column\n",
    "pasca_kejadian2[['tweet', 'sentiment']]"
   ]
  },
  {
   "attachments": {},
   "cell_type": "markdown",
   "metadata": {},
   "source": [
    "## Export Data to CSV"
   ]
  },
  {
   "cell_type": "code",
   "execution_count": 146,
   "metadata": {},
   "outputs": [],
   "source": [
    "# export to csv\n",
    "pra_kejadian.to_csv('sentimented-tweet-pra-kejadian.csv', index=False)\n",
    "pra_kejadian2.to_csv('sentimented-tweet-pra-kejadian2.csv', index=False)\n",
    "pasca_kejadian.to_csv('sentimented-tweet-pasca-kejadian.csv', index=False)\n",
    "pasca_kejadian2.to_csv('sentimented-tweet-pasca-kejadian2.csv', index=False)"
   ]
  },
  {
   "attachments": {},
   "cell_type": "markdown",
   "metadata": {},
   "source": [
    "# Visualisasi"
   ]
  },
  {
   "cell_type": "code",
   "execution_count": 130,
   "metadata": {},
   "outputs": [
    {
     "data": {
      "text/plain": [
       "Positif    74\n",
       "Negatif    21\n",
       "Name: sentiment, dtype: int64"
      ]
     },
     "execution_count": 130,
     "metadata": {},
     "output_type": "execute_result"
    }
   ],
   "source": [
    "pra_kejadian['sentiment'].value_counts()"
   ]
  },
  {
   "cell_type": "code",
   "execution_count": 108,
   "metadata": {},
   "outputs": [
    {
     "data": {
      "text/plain": [
       "Positif    59\n",
       "Negatif    28\n",
       "Name: sentiment, dtype: int64"
      ]
     },
     "execution_count": 108,
     "metadata": {},
     "output_type": "execute_result"
    }
   ],
   "source": [
    "pra_kejadian2['sentiment'].value_counts()"
   ]
  },
  {
   "cell_type": "code",
   "execution_count": 143,
   "metadata": {},
   "outputs": [
    {
     "data": {
      "text/plain": [
       "Negatif    95\n",
       "Positif    60\n",
       "Name: sentiment, dtype: int64"
      ]
     },
     "execution_count": 143,
     "metadata": {},
     "output_type": "execute_result"
    }
   ],
   "source": [
    "pasca_kejadian['sentiment'].value_counts()"
   ]
  },
  {
   "cell_type": "code",
   "execution_count": 139,
   "metadata": {},
   "outputs": [
    {
     "data": {
      "text/plain": [
       "Negatif    125\n",
       "Positif     68\n",
       "Name: sentiment, dtype: int64"
      ]
     },
     "execution_count": 139,
     "metadata": {},
     "output_type": "execute_result"
    }
   ],
   "source": [
    "pasca_kejadian2['sentiment'].value_counts()"
   ]
  },
  {
   "cell_type": "code",
   "execution_count": 107,
   "metadata": {},
   "outputs": [],
   "source": [
    "import matplotlib.pyplot as plt"
   ]
  },
  {
   "cell_type": "code",
   "execution_count": 109,
   "metadata": {},
   "outputs": [
    {
     "data": {
      "image/png": "[encoded data removed]",
      "text/plain": [
       "<Figure size 640x480 with 2 Axes>"
      ]
     },
     "metadata": {},
     "output_type": "display_data"
    }
   ],
   "source": [
    "# pie chart visualization on pra kejadian\n",
    "plt.subplot(1, 2, 1)\n",
    "labels = ['Positif', 'Negatif']\n",
    "sizes = [pra_kejadian['sentiment'].value_counts()[0], pra_kejadian['sentiment'].value_counts()[1]]\n",
    "colors = ['#77DD76', '#FF6962']\n",
    "plt.pie(sizes, labels=labels, colors=colors, autopct='%1.1f%%', startangle=90)\n",
    "\n",
    "\n",
    "plt.subplot(1, 2, 2)\n",
    "sizes2 = [pra_kejadian2['sentiment'].value_counts()[0], pra_kejadian2['sentiment'].value_counts()[1]]\n",
    "plt.pie(sizes2, labels=labels, colors=colors, autopct='%1.1f%%', startangle=90)\n",
    "plt.title('Opini Pra Kejadian', y=0.925, x=0)\n",
    "\n",
    "plt.show()"
   ]
  },
  {
   "cell_type": "code",
   "execution_count": 122,
   "metadata": {},
   "outputs": [
    {
     "data": {
      "image/png": "[encoded data removed]",
      "text/plain": [
       "<Figure size 640x480 with 2 Axes>"
      ]
     },
     "metadata": {},
     "output_type": "display_data"
    }
   ],
   "source": [
    "# pie chart visualization on pasca kejadian\n",
    "plt.subplot(1, 2, 1)\n",
    "labels = ['Positif', 'Negatif']\n",
    "sizes = [pasca_kejadian['sentiment'].value_counts()[1], pasca_kejadian['sentiment'].value_counts()[0]]\n",
    "colors = ['#77DD76', '#FF6962']\n",
    "plt.pie(sizes, labels=labels, colors=colors, autopct='%1.1f%%', startangle=90)\n",
    "\n",
    "plt.subplot(1, 2, 2)\n",
    "sizes2 = [pasca_kejadian2['sentiment'].value_counts()[1], pasca_kejadian2['sentiment'].value_counts()[0]]\n",
    "plt.pie(sizes2, labels=labels, colors=colors, autopct='%1.1f%%', startangle=90)\n",
    "plt.title('Opini Pasca Kejadian', y=0.925, x=0)\n",
    "\n",
    "plt.show()"
   ]
  },
  {
   "cell_type": "code",
   "execution_count": 133,
   "metadata": {},
   "outputs": [
    {
     "data": {
      "text/plain": [
       "<matplotlib.legend.Legend at 0x23169c48c50>"
      ]
     },
     "execution_count": 133,
     "metadata": {},
     "output_type": "execute_result"
    },
    {
     "data": {
      "image/png": "[encoded data removed]",
      "text/plain": [
       "<Figure size 640x480 with 1 Axes>"
      ]
     },
     "metadata": {},
     "output_type": "display_data"
    }
   ],
   "source": [
    "# Line Chart\n",
    "x = ['Pra Kejadian', 'Pasca Kejadian']\n",
    "y = [pra_kejadian['sentiment'].value_counts()[0], pasca_kejadian['sentiment'].value_counts()[1]]\n",
    "y2 = [pra_kejadian['sentiment'].value_counts()[1], pasca_kejadian['sentiment'].value_counts()[0]]\n",
    "y3 = [pra_kejadian2['sentiment'].value_counts()[0], pasca_kejadian2['sentiment'].value_counts()[1]]\n",
    "y4 = [pra_kejadian2['sentiment'].value_counts()[1], pasca_kejadian2['sentiment'].value_counts()[0]]\n",
    "plt.plot(x, y, label='Opini Positif 1', color='#77DD76')\n",
    "plt.plot(x, y3, label='Opini Positif 2', color='#5CAB5B')\n",
    "plt.plot(x, y2, label='Opini Negatif 1', color='#FF6962')\n",
    "plt.plot(x, y4, label='Opini Negatif 2', color='#CC544E')\n",
    "plt.xlabel('Kategori')\n",
    "plt.ylabel('Jumlah')\n",
    "plt.title('Perbandingan Opini Pra dan Pasca Kejadian')\n",
    "plt.legend()"
   ]
  },
  {
   "cell_type": "code",
   "execution_count": 55,
   "metadata": {},
   "outputs": [],
   "source": [
    "def bar_chart(df, df2):\n",
    "    categories = ['Pra Kejadian', 'Pasca Kejadian']\n",
    "    \n",
    "    positive_before = df[df['sentiment'] == 'Positif']['sentiment'].count()\n",
    "    positive_after = df2[df2['sentiment'] == 'Positif']['sentiment'].count()\n",
    "    \n",
    "    negative_before = df[df['sentiment'] == 'Negatif']['sentiment'].count()\n",
    "    negative_after = df2[df2['sentiment'] == 'Negatif']['sentiment'].count()\n",
    "    \n",
    "    positive_opinions = [positive_before, positive_after]\n",
    "    negative_opinions = [negative_before, negative_after]\n",
    "    \n",
    "    bar_width = 0.35\n",
    "    opacity = 0.8\n",
    "    \n",
    "    plt.bar(categories, positive_opinions, bar_width, alpha=opacity, label='Opini Positif', align='center', color='#77DD76')\n",
    "    plt.bar(categories, negative_opinions, bar_width, alpha=opacity, label='Opini Negatif', align='edge', color='#FF6962')\n",
    "    \n",
    "    plt.xlabel('Kategori')\n",
    "    plt.ylabel('Jumlah')\n",
    "    plt.title('Perbandingan Opini Positif dan Negatif Pra dan Pasca Kejadian')\n",
    "    plt.legend()\n",
    "    \n",
    "    plt.show()"
   ]
  },
  {
   "cell_type": "code",
   "execution_count": 56,
   "metadata": {},
   "outputs": [
    {
     "data": {
      "image/png": "[encoded data removed]",
      "text/plain": [
       "<Figure size 640x480 with 1 Axes>"
      ]
     },
     "metadata": {},
     "output_type": "display_data"
    }
   ],
   "source": [
    "bar_chart(pra_kejadian, pasca_kejadian)"
   ]
  },
  {
   "cell_type": "code",
   "execution_count": 134,
   "metadata": {},
   "outputs": [
    {
     "data": {
      "image/png": "[encoded data removed]",
      "text/plain": [
       "<Figure size 640x480 with 1 Axes>"
      ]
     },
     "metadata": {},
     "output_type": "display_data"
    }
   ],
   "source": [
    "bar_chart(pra_kejadian2, pasca_kejadian2)"
   ]
  }
 ],
 "metadata": {
  "kernelspec": {
   "display_name": "Python 3",
   "language": "python",
   "name": "python3"
  },
  "language_info": {
   "codemirror_mode": {
    "name": "ipython",
    "version": 3
   },
   "file_extension": ".py",
   "mimetype": "text/x-python",
   "name": "python",
   "nbconvert_exporter": "python",
   "pygments_lexer": "ipython3",
   "version": "3.11.4"
  },
  "orig_nbformat": 4
 },
 "nbformat": 4,
 "nbformat_minor": 2
}
